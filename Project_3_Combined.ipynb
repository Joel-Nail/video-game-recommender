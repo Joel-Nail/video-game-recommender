{
 "cells": [
  {
   "cell_type": "markdown",
   "metadata": {},
   "source": [
    "## UDA Assignment 3 - Crowdsourced Recommender System\n",
    "Created by: Aman Bhardwaj, Blake DeLong, Apurva Harsulkar, Colby Meline, Joel Nail, and Rahul Rangarao"
   ]
  },
  {
   "cell_type": "code",
   "execution_count": 1,
   "metadata": {},
   "outputs": [
    {
     "name": "stderr",
     "output_type": "stream",
     "text": [
      "[nltk_data] Downloading package punkt to /Users/joelnail/nltk_data...\n",
      "[nltk_data]   Package punkt is already up-to-date!\n"
     ]
    }
   ],
   "source": [
    "import numpy as np\n",
    "import pandas as pd\n",
    "import math\n",
    "import nltk\n",
    "nltk.download('punkt')\n",
    "from nltk.corpus import stopwords\n",
    "from nltk.tokenize import word_tokenize, sent_tokenize\n",
    "from nltk.sentiment import SentimentIntensityAnalyzer\n",
    "from string import punctuation\n",
    "import re\n",
    "import matplotlib.pyplot as plt\n",
    "from sklearn.metrics.pairwise import cosine_similarity\n",
    "from sklearn.feature_extraction.text import CountVectorizer"
   ]
  },
  {
   "cell_type": "markdown",
   "metadata": {},
   "source": [
    "### Creating a dataframe from our scraped data"
   ]
  },
  {
   "cell_type": "code",
   "execution_count": 2,
   "metadata": {},
   "outputs": [],
   "source": [
    "# creating a dataframe from the review file and dropping any reviews with NA values\n",
    "reviews = pd.read_csv('Scraped_Data/final_reviews_with_names.csv')\n",
    "reviews.dropna(inplace=True)\n",
    "reviews.reset_index(drop=True, inplace=True)\n",
    "\n",
    "# defining a list of English stop words to remove from our reviews\n",
    "try:\n",
    "    stop_words = set(stopwords.words('english'))\n",
    "except:\n",
    "    nltk.download('stopwords')\n",
    "    stop_words = set(stopwords.words('english'))"
   ]
  },
  {
   "cell_type": "markdown",
   "metadata": {},
   "source": [
    "### Word Frequency Analysis"
   ]
  },
  {
   "cell_type": "code",
   "execution_count": 18,
   "metadata": {},
   "outputs": [
    {
     "name": "stdout",
     "output_type": "stream",
     "text": [
      "word frequency calculation completed\n"
     ]
    }
   ],
   "source": [
    "website = re.compile(\"(?:(?:https?|ftp):\\/\\/)?[\\w/\\-?=%.]+\\.[\\w/\\-&?=%.]+\")  # Used to remove URLS\n",
    "word_freq = {} # dictionary where we will store word frequencies\n",
    "\n",
    "# for each review, we will first remove any URLS and convert all the text to lowercase \n",
    "# next we will tokenize the words in the review and add the count of words to our word_freq dictionary\n",
    "for i in reviews.iloc[:,6]:\n",
    "    text = str(i)\n",
    "    urls = set(re.findall(website, text)) \n",
    "    for url in urls:\n",
    "        text = text.replace(url, \"\")\n",
    "\n",
    "    text = text.lower()\n",
    "    text = word_tokenize(str(text))\n",
    "    for word in text:\n",
    "        if word not in word_freq:\n",
    "            word_freq[word]=1\n",
    "        else:\n",
    "            word_freq[word]+=1\n",
    "\n",
    "# creating a pandas dataframe from our word_freq dictionary and sorting from highest to lowest frequency \n",
    "word_freq_df = pd.DataFrame({\"word\": [i for i in word_freq.keys()], \"frequency\": [i for i in word_freq.values()]})\n",
    "word_freq_df = word_freq_df.sort_values(by='frequency', ascending=False)\n",
    "print(\"word frequency calculation completed\")"
   ]
  },
  {
   "cell_type": "code",
   "execution_count": 19,
   "metadata": {},
   "outputs": [],
   "source": [
    "add_punc = [\"’\", \"``\", \"'s\", \"''\", \"”\", \"—\", \"“\", \"amp\", \"nan\", \",\", \".\", \":\", \"?\", \"—\", \"@\", \"&\", \";\", \"!\", \"$\", \"#\",\\\n",
    "             \"-\", \"%\", \"n't\", \"--\", \"‚òê\"]\n",
    "\n",
    "cleaned_word_freq_df = word_freq_df.copy()\n",
    "\n",
    "# removing stop words and various punctuation from our word frequency list\n",
    "for word in cleaned_word_freq_df['word']:\n",
    "    if word in punctuation or word in add_punc or word in stop_words:\n",
    "        cleaned_word_freq_df = cleaned_word_freq_df.drop(cleaned_word_freq_df[cleaned_word_freq_df.word==word].index)"
   ]
  },
  {
   "cell_type": "code",
   "execution_count": 27,
   "metadata": {},
   "outputs": [
    {
     "data": {
      "text/html": [
       "<div>\n",
       "<style scoped>\n",
       "    .dataframe tbody tr th:only-of-type {\n",
       "        vertical-align: middle;\n",
       "    }\n",
       "\n",
       "    .dataframe tbody tr th {\n",
       "        vertical-align: top;\n",
       "    }\n",
       "\n",
       "    .dataframe thead th {\n",
       "        text-align: right;\n",
       "    }\n",
       "</style>\n",
       "<table border=\"1\" class=\"dataframe\">\n",
       "  <thead>\n",
       "    <tr style=\"text-align: right;\">\n",
       "      <th></th>\n",
       "      <th>word</th>\n",
       "      <th>frequency</th>\n",
       "    </tr>\n",
       "  </thead>\n",
       "  <tbody>\n",
       "    <tr>\n",
       "      <th>390</th>\n",
       "      <td>story</td>\n",
       "      <td>7053</td>\n",
       "    </tr>\n",
       "    <tr>\n",
       "      <th>0</th>\n",
       "      <td>first</td>\n",
       "      <td>6683</td>\n",
       "    </tr>\n",
       "    <tr>\n",
       "      <th>50</th>\n",
       "      <td>make</td>\n",
       "      <td>6588</td>\n",
       "    </tr>\n",
       "    <tr>\n",
       "      <th>138</th>\n",
       "      <td>great</td>\n",
       "      <td>6580</td>\n",
       "    </tr>\n",
       "    <tr>\n",
       "      <th>269</th>\n",
       "      <td>still</td>\n",
       "      <td>6544</td>\n",
       "    </tr>\n",
       "  </tbody>\n",
       "</table>\n",
       "</div>"
      ],
      "text/plain": [
       "      word  frequency\n",
       "390  story       7053\n",
       "0    first       6683\n",
       "50    make       6588\n",
       "138  great       6580\n",
       "269  still       6544"
      ]
     },
     "execution_count": 27,
     "metadata": {},
     "output_type": "execute_result"
    }
   ],
   "source": [
    "# writing the word frequencies dictionary to a CSV\n",
    "# cleaned_word_freq_df.to_csv(\"game_review_word_frequencies.csv\", index=False)\n",
    "# we analyzed the CSV to find the attributes mentioned below\n",
    "\n",
    "cleaned_word_freq_df[14:19] # shown as an example (story was the top attribute)"
   ]
  },
  {
   "cell_type": "markdown",
   "metadata": {},
   "source": [
    "### Top Attributes\n",
    "- Story\n",
    "- Gameplay\n",
    "- Graphics\n",
    "- Combat\n",
    "- Price\n",
    "- Music\n",
    "- World\n",
    "\n",
    "### Potential Attributes to Perform Word Replacement On\n",
    "- Fun (Gameplay)\n",
    "- Pretty (Graphics)\n",
    "- Worth (Value)\n",
    "- Money (Value)"
   ]
  },
  {
   "cell_type": "markdown",
   "metadata": {},
   "source": [
    "##### Stretch Goal: perform word replacement on similar attributes prior to similarity analysis (did not achieve)"
   ]
  },
  {
   "cell_type": "markdown",
   "metadata": {},
   "source": [
    "##### Our choice of attributes: Gameplay, Story, and Graphics"
   ]
  },
  {
   "cell_type": "markdown",
   "metadata": {},
   "source": [
    "### Similarity Analysis"
   ]
  },
  {
   "cell_type": "code",
   "execution_count": 3,
   "metadata": {},
   "outputs": [],
   "source": [
    "# grouping reviews by game name and getting the count of reviews for each game\n",
    "reviews_grouped = reviews.groupby('game_name').agg({'game_id':'count'})\n",
    "reviews_grouped.sort_values(by='game_id', axis=0, ascending=True, inplace=True)\n",
    "reviews_grouped\n",
    "\n",
    "# we are going to drop any reviews for games with less than 3 reviews\n",
    "games_to_drop = reviews_grouped[0:1297]\n",
    "games_to_drop_list = games_to_drop.index.tolist()\n",
    "games_to_keep = reviews_grouped[1297:]\n",
    "games_to_keep_list = games_to_keep.index.to_list()"
   ]
  },
  {
   "cell_type": "code",
   "execution_count": 5,
   "metadata": {},
   "outputs": [],
   "source": [
    "# recreating the reviews dataframe to only include games with at least 3 reviews\n",
    "reviews = reviews[reviews['game_name'].isin(games_to_keep_list)]\n",
    "reviews.dropna(inplace=True)\n",
    "reviews.reset_index(drop=True, inplace=True)"
   ]
  },
  {
   "cell_type": "code",
   "execution_count": 6,
   "metadata": {},
   "outputs": [],
   "source": [
    "attributes = ['gameplay story graphics'] # these are the attributes we want to find similar reviews for\n",
    "#attributes = ['music world price'] # secondary selection of attributes we used to test our recommendations\n",
    "reviews_text_with_attr = attributes # creating a new list that will have the attributes + all reviews\n",
    "reviews_text = reviews.iloc[:,6] # grabbing just the review text from the reviews dataframe\n",
    "\n",
    "# combining the attributes and reviews\n",
    "for review in reviews_text:\n",
    "    reviews_text_with_attr.append(review)\n",
    "\n",
    "# using sklearn's CountVectorizer to create sparse matrices based on word appearances\n",
    "vectorizer = CountVectorizer()\n",
    "vectors = vectorizer.fit_transform(reviews_text_with_attr)\n",
    "\n",
    "# converting vectorizer output into array\n",
    "attr_array = vectors.toarray()[0] # this is the array for the attributes\n",
    "review_arrays = vectors.toarray()[1:] # this is an array of arrays for the reviews"
   ]
  },
  {
   "cell_type": "code",
   "execution_count": 7,
   "metadata": {},
   "outputs": [],
   "source": [
    "attr_array_reshaped =  attr_array.reshape(1, -1) # reshaping array for cosine similarity calculation\n",
    "\n",
    "# print(cosine_similarity(attr_array_reshaped, attr_array_reshaped)) # sanity check for cosine similarity should = 1\n",
    "\n",
    "review_similarities = [] # this is where we'll store the cosine similarity score for each review\n",
    "id_count = 0\n",
    "\n",
    "# for each review, we reshape it, calculate cosine similarity with the attribute array, then add the similarity to our list\n",
    "for review in review_arrays:\n",
    "    review = review.reshape(1, -1)\n",
    "    similarity = cosine_similarity(attr_array_reshaped, review)\n",
    "    review_similarities.append([id_count, float(similarity[0])])\n",
    "    id_count += 1"
   ]
  },
  {
   "cell_type": "code",
   "execution_count": 9,
   "metadata": {},
   "outputs": [
    {
     "name": "stdout",
     "output_type": "stream",
     "text": [
      "[[5320, 0.6666666666666669], [30822, 0.5773502691896258], [39114, 0.5773502691896258]]\n",
      "-----\n",
      "Graphics & Story amazing\n"
     ]
    }
   ],
   "source": [
    "review_similarities.sort(key=lambda x: x[1], reverse=True) # sorting from highest to lowest similarity\n",
    "print(review_similarities[0:3]) # printing the top 3 most similar reviews as a sanity check\n",
    "\n",
    "print('-----')\n",
    "\n",
    "print(reviews.iloc[:,6].loc[5320]) # sanity check looks good - you can see the attributes mentioned (Graphics & Story)"
   ]
  },
  {
   "cell_type": "code",
   "execution_count": 10,
   "metadata": {},
   "outputs": [],
   "source": [
    "review_similarities.sort() # putting list of review similarities back in ascending order by review ID\n",
    "\n",
    "# creating a list that only contains similarity scores in order to add them to the reviews dataframe\n",
    "sim_scores = []\n",
    "for pair in review_similarities:\n",
    "    sim_scores.append(pair[1])\n",
    "\n",
    "reviews['attr_cosine_sim'] = sim_scores # adding the similarity scores to the reviews dataframe"
   ]
  },
  {
   "cell_type": "markdown",
   "metadata": {},
   "source": [
    "### Sentiment Analysis"
   ]
  },
  {
   "cell_type": "code",
   "execution_count": 11,
   "metadata": {},
   "outputs": [],
   "source": [
    "sentiment=SentimentIntensityAnalyzer()\n",
    "# setting words that are associated with games to 0 so they don't influence sentiment scores\n",
    "sentiment.lexicon.update({'combat':0,'playing':0,'play':0,'enemies':0,'die':0,'dead':0,'fight':0,\n",
    "                        'damage':0,'win':0,'shoot':0,'war':0,'death':0,'fighting':0,'fire':0,'horror':0,\n",
    "                        'battles':0,'attacks':0,'fights':0, 'game':0})\n",
    "\n",
    "# function to get sentiment for a review - we take the average of each sentence's sentiment to improve performance\n",
    "def get_sent(text):\n",
    "    scores=[] \n",
    "    text=str(text).lower()\n",
    "    clean_text=[word for word in text.split() if word not in stop_words]\n",
    "    clean_text=' '.join(e for e in clean_text)\n",
    "    for sent in sent_tokenize(text):\n",
    "        scores.append(sentiment.polarity_scores(sent)['compound'])\n",
    "    \n",
    "    return np.mean(scores)"
   ]
  },
  {
   "cell_type": "code",
   "execution_count": 12,
   "metadata": {},
   "outputs": [
    {
     "name": "stderr",
     "output_type": "stream",
     "text": [
      "/Users/joelnail/opt/anaconda3/lib/python3.9/site-packages/numpy/core/fromnumeric.py:3440: RuntimeWarning: Mean of empty slice.\n",
      "  return _methods._mean(a, axis=axis, dtype=dtype,\n"
     ]
    }
   ],
   "source": [
    "reviews['sentiment']=reviews['review_text'].apply(lambda txt: get_sent(txt)) # calculating sentiment for each review"
   ]
  },
  {
   "cell_type": "code",
   "execution_count": 112,
   "metadata": {},
   "outputs": [],
   "source": [
    "# we decided that using an average was better than a multiplicative model based on a qualitative analysis\n",
    "# reviews['eval_score_test'] = (5 * reviews['attr_cosine_sim']) * (.1 * reviews['sentiment'])\n",
    "\n",
    "# we are weighting cosine similarity much higher than sentiment to esnure that recommendations are relevant to attributes\n",
    "reviews['eval_score_test'] = (reviews['attr_cosine_sim']*5 + reviews['sentiment'])/2"
   ]
  },
  {
   "cell_type": "code",
   "execution_count": 113,
   "metadata": {},
   "outputs": [
    {
     "data": {
      "text/html": [
       "<div>\n",
       "<style scoped>\n",
       "    .dataframe tbody tr th:only-of-type {\n",
       "        vertical-align: middle;\n",
       "    }\n",
       "\n",
       "    .dataframe tbody tr th {\n",
       "        vertical-align: top;\n",
       "    }\n",
       "\n",
       "    .dataframe thead th {\n",
       "        text-align: right;\n",
       "    }\n",
       "</style>\n",
       "<table border=\"1\" class=\"dataframe\">\n",
       "  <thead>\n",
       "    <tr style=\"text-align: right;\">\n",
       "      <th></th>\n",
       "      <th>game_name</th>\n",
       "      <th>author_recommended_game</th>\n",
       "      <th>attr_cosine_sim</th>\n",
       "      <th>sentiment</th>\n",
       "      <th>eval_score_test</th>\n",
       "    </tr>\n",
       "  </thead>\n",
       "  <tbody>\n",
       "    <tr>\n",
       "      <th>5320</th>\n",
       "      <td>TheOuterWorlds</td>\n",
       "      <td>True</td>\n",
       "      <td>0.666667</td>\n",
       "      <td>0.58590</td>\n",
       "      <td>1.959617</td>\n",
       "    </tr>\n",
       "    <tr>\n",
       "      <th>30822</th>\n",
       "      <td>BIOMUTANT</td>\n",
       "      <td>True</td>\n",
       "      <td>0.577350</td>\n",
       "      <td>0.62490</td>\n",
       "      <td>1.755826</td>\n",
       "    </tr>\n",
       "    <tr>\n",
       "      <th>10334</th>\n",
       "      <td>Batman‚Ñ¢ArkhamKnight</td>\n",
       "      <td>True</td>\n",
       "      <td>0.516398</td>\n",
       "      <td>0.86250</td>\n",
       "      <td>1.722244</td>\n",
       "    </tr>\n",
       "    <tr>\n",
       "      <th>2552</th>\n",
       "      <td>BatmanArkhamCityGOTY</td>\n",
       "      <td>True</td>\n",
       "      <td>0.516398</td>\n",
       "      <td>0.83160</td>\n",
       "      <td>1.706794</td>\n",
       "    </tr>\n",
       "    <tr>\n",
       "      <th>20905</th>\n",
       "      <td>WallpaperEngine</td>\n",
       "      <td>True</td>\n",
       "      <td>0.577350</td>\n",
       "      <td>0.46625</td>\n",
       "      <td>1.676501</td>\n",
       "    </tr>\n",
       "    <tr>\n",
       "      <th>29853</th>\n",
       "      <td>FarCry5</td>\n",
       "      <td>True</td>\n",
       "      <td>0.516398</td>\n",
       "      <td>0.63690</td>\n",
       "      <td>1.609444</td>\n",
       "    </tr>\n",
       "    <tr>\n",
       "      <th>38271</th>\n",
       "      <td>AWayOut</td>\n",
       "      <td>True</td>\n",
       "      <td>0.516398</td>\n",
       "      <td>0.62490</td>\n",
       "      <td>1.603444</td>\n",
       "    </tr>\n",
       "    <tr>\n",
       "      <th>6884</th>\n",
       "      <td>LittleNightmaresII</td>\n",
       "      <td>True</td>\n",
       "      <td>0.471405</td>\n",
       "      <td>0.83600</td>\n",
       "      <td>1.596511</td>\n",
       "    </tr>\n",
       "    <tr>\n",
       "      <th>33969</th>\n",
       "      <td>CUBOTSTheOrigins</td>\n",
       "      <td>True</td>\n",
       "      <td>0.436436</td>\n",
       "      <td>0.84360</td>\n",
       "      <td>1.512889</td>\n",
       "    </tr>\n",
       "    <tr>\n",
       "      <th>30498</th>\n",
       "      <td>DoubleActionBoogaloo</td>\n",
       "      <td>True</td>\n",
       "      <td>0.384900</td>\n",
       "      <td>0.86890</td>\n",
       "      <td>1.396700</td>\n",
       "    </tr>\n",
       "  </tbody>\n",
       "</table>\n",
       "</div>"
      ],
      "text/plain": [
       "                   game_name  author_recommended_game  attr_cosine_sim  \\\n",
       "5320          TheOuterWorlds                     True         0.666667   \n",
       "30822              BIOMUTANT                     True         0.577350   \n",
       "10334  Batman‚Ñ¢ArkhamKnight                     True         0.516398   \n",
       "2552    BatmanArkhamCityGOTY                     True         0.516398   \n",
       "20905        WallpaperEngine                     True         0.577350   \n",
       "29853                FarCry5                     True         0.516398   \n",
       "38271                AWayOut                     True         0.516398   \n",
       "6884      LittleNightmaresII                     True         0.471405   \n",
       "33969       CUBOTSTheOrigins                     True         0.436436   \n",
       "30498   DoubleActionBoogaloo                     True         0.384900   \n",
       "\n",
       "       sentiment  eval_score_test  \n",
       "5320     0.58590         1.959617  \n",
       "30822    0.62490         1.755826  \n",
       "10334    0.86250         1.722244  \n",
       "2552     0.83160         1.706794  \n",
       "20905    0.46625         1.676501  \n",
       "29853    0.63690         1.609444  \n",
       "38271    0.62490         1.603444  \n",
       "6884     0.83600         1.596511  \n",
       "33969    0.84360         1.512889  \n",
       "30498    0.86890         1.396700  "
      ]
     },
     "execution_count": 113,
     "metadata": {},
     "output_type": "execute_result"
    }
   ],
   "source": [
    "reviews_by_eval = reviews.sort_values(by='eval_score_test', axis=0, ascending=False) # sorting reviews by evaluation score\n",
    "\n",
    "# top 10 reviews based on evaluation score - you can see the balance between similarity and sentiment\n",
    "reviews_by_eval[['game_name','author_recommended_game', 'attr_cosine_sim' , 'sentiment', 'eval_score_test']][0:10]"
   ]
  },
  {
   "cell_type": "code",
   "execution_count": 114,
   "metadata": {},
   "outputs": [
    {
     "name": "stdout",
     "output_type": "stream",
     "text": [
      "RECOMMENDATIONS FOR ATTRIBUTES: GAMEPLAY, STORY, AND GRAPHICS\n",
      "\n",
      "                         eval_score_test  attr_cosine_sim  sentiment\n",
      "game_name                                                           \n",
      "Mirt.TalesoftheColdLand         0.574675         0.113153   0.583583\n",
      "EmpiresoftheUndergrowth         0.476555         0.073581   0.585205\n",
      "TheDarknessII                   0.452668         0.071761   0.546533\n"
     ]
    }
   ],
   "source": [
    "# grouping by game and aggregating by mean evaluation score\n",
    "reviews_grouped = reviews.groupby('game_name').agg({'eval_score_test':'mean', 'attr_cosine_sim':'mean', 'sentiment':'mean'})\n",
    "reviews_grouped.sort_values(by='eval_score_test', axis=0, ascending=False, inplace=True)\n",
    "print(\"RECOMMENDATIONS FOR ATTRIBUTES: GAMEPLAY, STORY, AND GRAPHICS\"+'\\n')\n",
    "print(reviews_grouped[0:3]) \n",
    "# after a qualitative review, we believe that these are good long tail recommendations for gameplay, story, and graphics"
   ]
  },
  {
   "cell_type": "markdown",
   "metadata": {},
   "source": [
    "### SpaCy Analysis"
   ]
  },
  {
   "cell_type": "code",
   "execution_count": null,
   "metadata": {},
   "outputs": [],
   "source": [
    "import spacy\n",
    "\n",
    "def most_similar_review_pairs(reviews, nlp, n=5):\n",
    "    from heapq import heappush, heappop\n",
    "    pair_set = set()\n",
    "    similarities_heap = []\n",
    "    for r1 in reviews:\n",
    "        for r2 in reviews:\n",
    "            if type(r1) == str and type(r2) == str:\n",
    "                if (r1, r2) not in pair_set and r1 != r2:\n",
    "                    pair_set.add((r1, r2))\n",
    "                    r1_doc, r2_doc = nlp(r1), nlp(r2)\n",
    "                    heappush(similarities_heap, (-r1_doc.similarity(r2_doc), r1, r2))\n",
    "    output = []\n",
    "    for _ in range(n):\n",
    "        sim, r1, r2 = heappop(similarities_heap)\n",
    "        output.append((-sim, r1, r2))\n",
    "    return output\n",
    "\n",
    "\n",
    "def remove_stops(input_text, nlp):\n",
    "    doc = nlp(input_text)\n",
    "    result = [token.text for token in doc if token.text not in nlp.Defaults.stop_words]\n",
    "    return \" \".join(result)\n",
    "\n",
    "\n",
    "def most_similar_reviews(input_doc, reviews, nlp, n=5, remove_stopwords=True):\n",
    "    from heapq import heappush, heappop\n",
    "    similarities_heap = []\n",
    "    for review in reviews:\n",
    "        if remove_stopwords:\n",
    "            review_doc = nlp(remove_stops(review, nlp))\n",
    "        else:\n",
    "            review_doc = nlp(review)\n",
    "        heappush(similarities_heap, (-input_doc.similarity(review_doc), review))\n",
    "    output = []\n",
    "    for _ in range(n):\n",
    "        output.append(heappop(similarities_heap))\n",
    "    return output\n",
    "\n",
    "# spaCy code takes a while to run, so we've provided an example rather than executing the code\n",
    "\"\"\"\n",
    "Example usage:\n",
    "nlp = spacy.load(\"en_core_web_md\")\n",
    "reviews = pd.read_csv(\"final_reviews_with_names.csv\").review_text\n",
    "sample_input_text = \"A game with satisfying combat, thrilling action, great gunplay, a balanced skill tree, and exciting music\"\n",
    "sample_input_doc = nlp(sample_input_text)\n",
    "top5reviews = most_similar_reviews(sample_input_doc, reviews, nlp)\n",
    "for i, tup in enumerate(top5):\n",
    "    print(\"Review {}: Similarity of {}\\n\\n{}\\n\\n\".format(i, -tup[0], tup[1]))\n",
    "\"\"\""
   ]
  },
  {
   "cell_type": "code",
   "execution_count": null,
   "metadata": {},
   "outputs": [],
   "source": []
  },
  {
   "cell_type": "markdown",
   "metadata": {},
   "source": [
    "If we used word vectors instead of bag-of-words, the similarity score would take into account more than just word frequency. In the bag of words approach, we simply represent a piece of text as a vector with binary numbers representing whether or not each word in a lexicon is present (or a continous variable indicating how many times each word is present). In the word2vec / spacy example, we instead represent each “token” (word, punctuation, etc), with an n-dimensional vector (we refer to “n” as embedding dimensionality). Thus, instead of a vector in m-dimensions for m words in the lexicon, we end up with an m by n matrix (i.e., a lexicon-size by embedding-dimensionality size matrix) which represents the piece of text.\n",
    "\n",
    "These word-embedding vectors are most often produced by a neural network that takes in a lexicon-size vector and spits out an embedding-dimensionality size vector.\n",
    "\n",
    "The end result is an NLP method which takes into account the context of words using word embeddings which enables much more robust analytics on text than the bag-of-words technique."
   ]
  },
  {
   "cell_type": "markdown",
   "metadata": {},
   "source": [
    "If we were to use spaCy rather than bag of words, the % of reviews that mention an attribute would increase since spaCy will find not only the mentioned attribute but also words similar to that attribute. This means that our recommendations will be more robust since they are taking into account more than just direct mentions of the attribute. That said, spaCy might tag words as being similar that aren't actually similar to the attribute, leading to worse recommendations compared to using a bag of words model"
   ]
  },
  {
   "cell_type": "markdown",
   "metadata": {},
   "source": [
    "### What if we ignored similarity and just recommended the top 3 games?"
   ]
  },
  {
   "cell_type": "markdown",
   "metadata": {},
   "source": [
    "Narrowing the List to the top 3 rated games as according to SteamDB\n",
    "\n",
    "1. Portal 2\n",
    "2. Hades\n",
    "3. People Playground"
   ]
  },
  {
   "cell_type": "code",
   "execution_count": 28,
   "metadata": {},
   "outputs": [
    {
     "data": {
      "text/html": [
       "<div>\n",
       "<style scoped>\n",
       "    .dataframe tbody tr th:only-of-type {\n",
       "        vertical-align: middle;\n",
       "    }\n",
       "\n",
       "    .dataframe tbody tr th {\n",
       "        vertical-align: top;\n",
       "    }\n",
       "\n",
       "    .dataframe thead th {\n",
       "        text-align: right;\n",
       "    }\n",
       "</style>\n",
       "<table border=\"1\" class=\"dataframe\">\n",
       "  <thead>\n",
       "    <tr style=\"text-align: right;\">\n",
       "      <th></th>\n",
       "      <th>game_id</th>\n",
       "      <th>game_name</th>\n",
       "      <th>author_id</th>\n",
       "      <th>playtime</th>\n",
       "      <th>weighted_vote_score</th>\n",
       "      <th>author_recommended_game</th>\n",
       "      <th>review_text</th>\n",
       "      <th>attr_cosine_sim</th>\n",
       "      <th>sentiment</th>\n",
       "      <th>eval_score_test</th>\n",
       "    </tr>\n",
       "  </thead>\n",
       "  <tbody>\n",
       "    <tr>\n",
       "      <th>15992</th>\n",
       "      <td>1118200</td>\n",
       "      <td>People Playground</td>\n",
       "      <td>7.656120e+16</td>\n",
       "      <td>4433</td>\n",
       "      <td>0.891535</td>\n",
       "      <td>True</td>\n",
       "      <td>I injected someone with Aids</td>\n",
       "      <td>0.0</td>\n",
       "      <td>0.0000</td>\n",
       "      <td>0.00000</td>\n",
       "    </tr>\n",
       "    <tr>\n",
       "      <th>15993</th>\n",
       "      <td>1118200</td>\n",
       "      <td>People Playground</td>\n",
       "      <td>7.656120e+16</td>\n",
       "      <td>3853</td>\n",
       "      <td>0.861480</td>\n",
       "      <td>True</td>\n",
       "      <td>The perfect game to play when you don't know w...</td>\n",
       "      <td>0.0</td>\n",
       "      <td>0.5719</td>\n",
       "      <td>0.28595</td>\n",
       "    </tr>\n",
       "    <tr>\n",
       "      <th>15994</th>\n",
       "      <td>1118200</td>\n",
       "      <td>People Playground</td>\n",
       "      <td>7.656120e+16</td>\n",
       "      <td>3090</td>\n",
       "      <td>0.716889</td>\n",
       "      <td>True</td>\n",
       "      <td>2 tbsp canola oil\\n6 cloves garlic crushed\\n1 ...</td>\n",
       "      <td>0.0</td>\n",
       "      <td>-0.0105</td>\n",
       "      <td>-0.00525</td>\n",
       "    </tr>\n",
       "    <tr>\n",
       "      <th>15995</th>\n",
       "      <td>1118200</td>\n",
       "      <td>People Playground</td>\n",
       "      <td>7.656120e+16</td>\n",
       "      <td>988</td>\n",
       "      <td>0.686939</td>\n",
       "      <td>True</td>\n",
       "      <td>good game fun game\\n</td>\n",
       "      <td>0.0</td>\n",
       "      <td>0.7351</td>\n",
       "      <td>0.36755</td>\n",
       "    </tr>\n",
       "    <tr>\n",
       "      <th>15996</th>\n",
       "      <td>1118200</td>\n",
       "      <td>People Playground</td>\n",
       "      <td>7.656120e+16</td>\n",
       "      <td>3230</td>\n",
       "      <td>0.581112</td>\n",
       "      <td>True</td>\n",
       "      <td>its fun to play around with, mods are essential</td>\n",
       "      <td>0.0</td>\n",
       "      <td>0.5106</td>\n",
       "      <td>0.25530</td>\n",
       "    </tr>\n",
       "  </tbody>\n",
       "</table>\n",
       "</div>"
      ],
      "text/plain": [
       "       game_id          game_name     author_id  playtime  \\\n",
       "15992  1118200  People Playground  7.656120e+16      4433   \n",
       "15993  1118200  People Playground  7.656120e+16      3853   \n",
       "15994  1118200  People Playground  7.656120e+16      3090   \n",
       "15995  1118200  People Playground  7.656120e+16       988   \n",
       "15996  1118200  People Playground  7.656120e+16      3230   \n",
       "\n",
       "       weighted_vote_score  author_recommended_game  \\\n",
       "15992             0.891535                     True   \n",
       "15993             0.861480                     True   \n",
       "15994             0.716889                     True   \n",
       "15995             0.686939                     True   \n",
       "15996             0.581112                     True   \n",
       "\n",
       "                                             review_text  attr_cosine_sim  \\\n",
       "15992                       I injected someone with Aids              0.0   \n",
       "15993  The perfect game to play when you don't know w...              0.0   \n",
       "15994  2 tbsp canola oil\\n6 cloves garlic crushed\\n1 ...              0.0   \n",
       "15995                               good game fun game\\n              0.0   \n",
       "15996    its fun to play around with, mods are essential              0.0   \n",
       "\n",
       "       sentiment  eval_score_test  \n",
       "15992     0.0000          0.00000  \n",
       "15993     0.5719          0.28595  \n",
       "15994    -0.0105         -0.00525  \n",
       "15995     0.7351          0.36755  \n",
       "15996     0.5106          0.25530  "
      ]
     },
     "execution_count": 28,
     "metadata": {},
     "output_type": "execute_result"
    }
   ],
   "source": [
    "top_list = ['Portal 2', 'People Playground', 'Hades']\n",
    "\n",
    "reviews_top3 = reviews[reviews['game_name'].isin(top_list)]\n",
    "\n",
    "reviews_top3.head(5)"
   ]
  },
  {
   "cell_type": "markdown",
   "metadata": {},
   "source": [
    "Similarity Analysis for Top 3 Games"
   ]
  },
  {
   "cell_type": "code",
   "execution_count": 29,
   "metadata": {},
   "outputs": [],
   "source": [
    "from sklearn.feature_extraction.text import CountVectorizer\n",
    "from sklearn.metrics.pairwise import cosine_similarity\n",
    "\n",
    "#attributes = ['gameplay story graphics'] # these are the attributes we want to find similar reviews for\n",
    "attributes = ['gameplay story graphics']\n",
    "reviews_top3_text_with_attr = attributes # creating a new list that will have the attributes + all reviews\n",
    "reviews_top3_text = reviews_top3.iloc[:,6] # grabbing just the review text from the reviews dataframe\n",
    "\n",
    "# combining the attributes and reviews\n",
    "for review in reviews_top3_text:\n",
    "    reviews_top3_text_with_attr.append(review)\n",
    "\n",
    "# using sklearn's CountVectorizer to create sparse matrices based on word appearances\n",
    "vectorizer = CountVectorizer()\n",
    "vectors = vectorizer.fit_transform(reviews_top3_text_with_attr)\n",
    "\n",
    "# converting vectorizer output into array\n",
    "attr_array = vectors.toarray()[0] # this is the array for the attributes\n",
    "reviews_top3_arrays = vectors.toarray()[1:] # this is an array of arrays for the reviews"
   ]
  },
  {
   "cell_type": "code",
   "execution_count": 30,
   "metadata": {},
   "outputs": [],
   "source": [
    "attr_array_reshaped =  attr_array.reshape(1, -1) # reshaping array for cosine similarity calculation\n",
    "\n",
    "# print(cosine_similarity(attr_array_reshaped, attr_array_reshaped)) # sanity check for cosine similarity should = 1\n",
    "\n",
    "reviews_top3_similarities = [] # this is where we'll store the cosine similarity score for each review\n",
    "id_count = 0\n",
    "\n",
    "# for each review, we reshape it, calculate cosine similarity with the attribute array, then add the similarity to our list\n",
    "for review in reviews_top3_arrays:\n",
    "    review = review.reshape(1, -1)\n",
    "    similarity = cosine_similarity(attr_array_reshaped, review)\n",
    "    reviews_top3_similarities.append([id_count, float(similarity[0])])\n",
    "    id_count += 1"
   ]
  },
  {
   "cell_type": "code",
   "execution_count": 31,
   "metadata": {},
   "outputs": [
    {
     "name": "stdout",
     "output_type": "stream",
     "text": [
      "[[20, 0.17407765595569785], [33, 0.15861031714362886], [43, 0.10759049504114515]]\n",
      "-----\n",
      "Among my favourite games of all time\n",
      "Story 10/10\n",
      "Humour 10/10\n",
      "Gameplay 11/10\n",
      "Co-op fun with friends 15/10\n"
     ]
    }
   ],
   "source": [
    "reviews_top3_similarities.sort(key=lambda x: x[1], reverse=True) # sorting from highest to lowest similarity\n",
    "print(reviews_top3_similarities[0:3]) # printing the top 3 most similar reviews\n",
    "\n",
    "print('-----')\n",
    "\n",
    "reviews_top3 = reviews_top3.reset_index(drop=True)\n",
    "\n",
    "print(reviews_top3.iloc[33,6]) # looking at a sample of a highly similar review"
   ]
  },
  {
   "cell_type": "code",
   "execution_count": 32,
   "metadata": {},
   "outputs": [
    {
     "data": {
      "text/html": [
       "<div>\n",
       "<style scoped>\n",
       "    .dataframe tbody tr th:only-of-type {\n",
       "        vertical-align: middle;\n",
       "    }\n",
       "\n",
       "    .dataframe tbody tr th {\n",
       "        vertical-align: top;\n",
       "    }\n",
       "\n",
       "    .dataframe thead th {\n",
       "        text-align: right;\n",
       "    }\n",
       "</style>\n",
       "<table border=\"1\" class=\"dataframe\">\n",
       "  <thead>\n",
       "    <tr style=\"text-align: right;\">\n",
       "      <th></th>\n",
       "      <th>game_id</th>\n",
       "      <th>game_name</th>\n",
       "      <th>author_id</th>\n",
       "      <th>playtime</th>\n",
       "      <th>weighted_vote_score</th>\n",
       "      <th>author_recommended_game</th>\n",
       "      <th>review_text</th>\n",
       "      <th>attr_cosine_sim</th>\n",
       "      <th>sentiment</th>\n",
       "      <th>eval_score_test</th>\n",
       "    </tr>\n",
       "  </thead>\n",
       "  <tbody>\n",
       "    <tr>\n",
       "      <th>0</th>\n",
       "      <td>1118200</td>\n",
       "      <td>People Playground</td>\n",
       "      <td>7.656120e+16</td>\n",
       "      <td>4433</td>\n",
       "      <td>0.891535</td>\n",
       "      <td>True</td>\n",
       "      <td>I injected someone with Aids</td>\n",
       "      <td>0.0</td>\n",
       "      <td>0.0000</td>\n",
       "      <td>0.00000</td>\n",
       "    </tr>\n",
       "    <tr>\n",
       "      <th>1</th>\n",
       "      <td>1118200</td>\n",
       "      <td>People Playground</td>\n",
       "      <td>7.656120e+16</td>\n",
       "      <td>3853</td>\n",
       "      <td>0.861480</td>\n",
       "      <td>True</td>\n",
       "      <td>The perfect game to play when you don't know w...</td>\n",
       "      <td>0.0</td>\n",
       "      <td>0.5719</td>\n",
       "      <td>0.28595</td>\n",
       "    </tr>\n",
       "    <tr>\n",
       "      <th>2</th>\n",
       "      <td>1118200</td>\n",
       "      <td>People Playground</td>\n",
       "      <td>7.656120e+16</td>\n",
       "      <td>3090</td>\n",
       "      <td>0.716889</td>\n",
       "      <td>True</td>\n",
       "      <td>2 tbsp canola oil\\n6 cloves garlic crushed\\n1 ...</td>\n",
       "      <td>0.0</td>\n",
       "      <td>-0.0105</td>\n",
       "      <td>-0.00525</td>\n",
       "    </tr>\n",
       "    <tr>\n",
       "      <th>3</th>\n",
       "      <td>1118200</td>\n",
       "      <td>People Playground</td>\n",
       "      <td>7.656120e+16</td>\n",
       "      <td>988</td>\n",
       "      <td>0.686939</td>\n",
       "      <td>True</td>\n",
       "      <td>good game fun game\\n</td>\n",
       "      <td>0.0</td>\n",
       "      <td>0.7351</td>\n",
       "      <td>0.36755</td>\n",
       "    </tr>\n",
       "    <tr>\n",
       "      <th>4</th>\n",
       "      <td>1118200</td>\n",
       "      <td>People Playground</td>\n",
       "      <td>7.656120e+16</td>\n",
       "      <td>3230</td>\n",
       "      <td>0.581112</td>\n",
       "      <td>True</td>\n",
       "      <td>its fun to play around with, mods are essential</td>\n",
       "      <td>0.0</td>\n",
       "      <td>0.5106</td>\n",
       "      <td>0.25530</td>\n",
       "    </tr>\n",
       "  </tbody>\n",
       "</table>\n",
       "</div>"
      ],
      "text/plain": [
       "   game_id          game_name     author_id  playtime  weighted_vote_score  \\\n",
       "0  1118200  People Playground  7.656120e+16      4433             0.891535   \n",
       "1  1118200  People Playground  7.656120e+16      3853             0.861480   \n",
       "2  1118200  People Playground  7.656120e+16      3090             0.716889   \n",
       "3  1118200  People Playground  7.656120e+16       988             0.686939   \n",
       "4  1118200  People Playground  7.656120e+16      3230             0.581112   \n",
       "\n",
       "   author_recommended_game                                        review_text  \\\n",
       "0                     True                       I injected someone with Aids   \n",
       "1                     True  The perfect game to play when you don't know w...   \n",
       "2                     True  2 tbsp canola oil\\n6 cloves garlic crushed\\n1 ...   \n",
       "3                     True                               good game fun game\\n   \n",
       "4                     True    its fun to play around with, mods are essential   \n",
       "\n",
       "   attr_cosine_sim  sentiment  eval_score_test  \n",
       "0              0.0     0.0000          0.00000  \n",
       "1              0.0     0.5719          0.28595  \n",
       "2              0.0    -0.0105         -0.00525  \n",
       "3              0.0     0.7351          0.36755  \n",
       "4              0.0     0.5106          0.25530  "
      ]
     },
     "execution_count": 32,
     "metadata": {},
     "output_type": "execute_result"
    }
   ],
   "source": [
    "reviews_top3_similarities.sort() # putting list of review similarities back in ascending order by review ID\n",
    "\n",
    "# creating a list that only contains similarity scores in order to add them to the reviews dataframe\n",
    "sim_scores = []\n",
    "for pair in reviews_top3_similarities:\n",
    "    sim_scores.append(pair[1])\n",
    "\n",
    "reviews_top3['attr_cosine_sim'] = sim_scores # adding the similarity scores to the reviews dataframe\n",
    "\n",
    "reviews_top3.head(5)"
   ]
  },
  {
   "cell_type": "code",
   "execution_count": 33,
   "metadata": {},
   "outputs": [
    {
     "data": {
      "text/html": [
       "<div>\n",
       "<style scoped>\n",
       "    .dataframe tbody tr th:only-of-type {\n",
       "        vertical-align: middle;\n",
       "    }\n",
       "\n",
       "    .dataframe tbody tr th {\n",
       "        vertical-align: top;\n",
       "    }\n",
       "\n",
       "    .dataframe thead th {\n",
       "        text-align: right;\n",
       "    }\n",
       "</style>\n",
       "<table border=\"1\" class=\"dataframe\">\n",
       "  <thead>\n",
       "    <tr style=\"text-align: right;\">\n",
       "      <th></th>\n",
       "      <th>review_text</th>\n",
       "    </tr>\n",
       "    <tr>\n",
       "      <th>game_name</th>\n",
       "      <th></th>\n",
       "    </tr>\n",
       "  </thead>\n",
       "  <tbody>\n",
       "    <tr>\n",
       "      <th>Hades</th>\n",
       "      <td>18</td>\n",
       "    </tr>\n",
       "    <tr>\n",
       "      <th>People Playground</th>\n",
       "      <td>17</td>\n",
       "    </tr>\n",
       "    <tr>\n",
       "      <th>Portal 2</th>\n",
       "      <td>17</td>\n",
       "    </tr>\n",
       "  </tbody>\n",
       "</table>\n",
       "</div>"
      ],
      "text/plain": [
       "                   review_text\n",
       "game_name                     \n",
       "Hades                       18\n",
       "People Playground           17\n",
       "Portal 2                    17"
      ]
     },
     "execution_count": 33,
     "metadata": {},
     "output_type": "execute_result"
    }
   ],
   "source": [
    "reviews_top3.groupby('game_name').agg({'review_text':'count'})"
   ]
  },
  {
   "cell_type": "code",
   "execution_count": 115,
   "metadata": {},
   "outputs": [],
   "source": [
    "reviews_top3['eval_score_test'] = (reviews_top3['attr_cosine_sim']*5 + reviews_top3['sentiment'])/2"
   ]
  },
  {
   "cell_type": "code",
   "execution_count": 116,
   "metadata": {},
   "outputs": [
    {
     "name": "stdout",
     "output_type": "stream",
     "text": [
      "                   eval_score_test\n",
      "game_name                         \n",
      "Portal 2                  0.224267\n",
      "Hades                     0.102440\n",
      "People Playground         0.071598\n"
     ]
    }
   ],
   "source": [
    "reviews_top3_grouped = reviews_top3.groupby('game_name').agg({'eval_score_test':'mean'})\n",
    "reviews_top3_grouped.sort_values(by='eval_score_test', axis=0, ascending=False, inplace=True)\n",
    "print(reviews_top3_grouped)"
   ]
  },
  {
   "cell_type": "markdown",
   "metadata": {},
   "source": [
    "Comparison against the reviews from above"
   ]
  },
  {
   "cell_type": "code",
   "execution_count": 117,
   "metadata": {},
   "outputs": [
    {
     "name": "stdout",
     "output_type": "stream",
     "text": [
      "RECOMMENDATIONS FOR ATTRIBUTES: GAMEPLAY, STORY, AND GRAPHICS\n",
      "\n",
      "                         eval_score_test\n",
      "game_name                               \n",
      "Mirt.TalesoftheColdLand         0.574675\n",
      "EmpiresoftheUndergrowth         0.476555\n",
      "TheDarknessII                   0.452668\n"
     ]
    }
   ],
   "source": [
    "# grouping by game and aggregating by mean evaluation score\n",
    "reviews_grouped = reviews.groupby('game_name').agg({'eval_score_test':'mean'})\n",
    "reviews_grouped.sort_values(by='eval_score_test', axis=0, ascending=False, inplace=True)\n",
    "print(\"RECOMMENDATIONS FOR ATTRIBUTES: GAMEPLAY, STORY, AND GRAPHICS\"+'\\n')\n",
    "print(reviews_grouped[0:3])"
   ]
  },
  {
   "cell_type": "markdown",
   "metadata": {},
   "source": [
    "Comparing the Evaluation Scores of the top 3 rated games to the top 3 games suggested by the recommender system, we can see that there is often a drastic difference in the scores. The mean evaluation scores are much better when we tailor the recommendations using the specified attributes rather than simply recommending the 3 most popular games. \n",
    "\n",
    "It should come as no surprise that the cosine similarity of the top 3 games and our selected attributes are oftentimes 0. Not every game can be excellent in every possible attribute, so we are much less likely to see similarity scores above 0. Compounding this issue, we also have a very wide but not a very deep dataset. That is, we have a lot of different games, but not a very large volume of reviews for each of these games. Because of this, it is more likely that we may not collect a review that contains our keywork attribute even if the game does excel in that area. It is unrealistic to expect all users to write comprehensive reviews about all the good things that can be found in the game.\n",
    "\n",
    "In all, we do not believe that these games are a good fit for the user, based upon the data we have about them. However, it should be noted that by using this method we are guaranteed to never suggest a ‘bad’ game to the user, only one that may not match their desired attributes. We believe there is some value to this. \n"
   ]
  },
  {
   "cell_type": "markdown",
   "metadata": {
    "collapsed": false
   },
   "source": [
    "### Lift Analysis\n",
    "for lift analysis we removed all special characters and whitespaces from the game titles and appended them to the user reviews"
   ]
  },
  {
   "cell_type": "code",
   "execution_count": 36,
   "metadata": {
    "collapsed": false
   },
   "outputs": [],
   "source": [
    "#reviews.review_text = \"\".join(reviews.game_name.str.split()) + \" \" + reviews.review_text\n",
    "\n",
    "reviews.game_name = reviews.game_name.str.replace(' ','')\n",
    "reviews.game_name = reviews.game_name.str.replace(':','')\n",
    "reviews.game_name = reviews.game_name.str.replace('-','')\n",
    "\n",
    "\n",
    "reviews.review_text = reviews.game_name + \" \" + reviews.review_text"
   ]
  },
  {
   "cell_type": "code",
   "execution_count": 37,
   "metadata": {
    "collapsed": false
   },
   "outputs": [
    {
     "data": {
      "text/html": [
       "<div>\n",
       "<style scoped>\n",
       "    .dataframe tbody tr th:only-of-type {\n",
       "        vertical-align: middle;\n",
       "    }\n",
       "\n",
       "    .dataframe tbody tr th {\n",
       "        vertical-align: top;\n",
       "    }\n",
       "\n",
       "    .dataframe thead th {\n",
       "        text-align: right;\n",
       "    }\n",
       "</style>\n",
       "<table border=\"1\" class=\"dataframe\">\n",
       "  <thead>\n",
       "    <tr style=\"text-align: right;\">\n",
       "      <th></th>\n",
       "      <th>game_id</th>\n",
       "      <th>game_name</th>\n",
       "      <th>author_id</th>\n",
       "      <th>playtime</th>\n",
       "      <th>weighted_vote_score</th>\n",
       "      <th>author_recommended_game</th>\n",
       "      <th>review_text</th>\n",
       "      <th>attr_cosine_sim</th>\n",
       "      <th>sentiment</th>\n",
       "      <th>eval_score_test</th>\n",
       "    </tr>\n",
       "  </thead>\n",
       "  <tbody>\n",
       "    <tr>\n",
       "      <th>0</th>\n",
       "      <td>391300</td>\n",
       "      <td>DoubleCubes</td>\n",
       "      <td>7.656120e+16</td>\n",
       "      <td>57</td>\n",
       "      <td>0.718250</td>\n",
       "      <td>False</td>\n",
       "      <td>DoubleCubes First Impressions Video:\\n\\nhttps:...</td>\n",
       "      <td>0.035720</td>\n",
       "      <td>-0.004675</td>\n",
       "      <td>0.033382</td>\n",
       "    </tr>\n",
       "    <tr>\n",
       "      <th>1</th>\n",
       "      <td>391300</td>\n",
       "      <td>DoubleCubes</td>\n",
       "      <td>7.656120e+16</td>\n",
       "      <td>14</td>\n",
       "      <td>0.638848</td>\n",
       "      <td>False</td>\n",
       "      <td>DoubleCubes SYSTEM REQUIREMENTS\\nOS: Windows 7...</td>\n",
       "      <td>0.047140</td>\n",
       "      <td>-0.167267</td>\n",
       "      <td>-0.036493</td>\n",
       "    </tr>\n",
       "    <tr>\n",
       "      <th>2</th>\n",
       "      <td>391300</td>\n",
       "      <td>DoubleCubes</td>\n",
       "      <td>7.656120e+16</td>\n",
       "      <td>50</td>\n",
       "      <td>0.636461</td>\n",
       "      <td>False</td>\n",
       "      <td>DoubleCubes The first 3 levels offer a mislead...</td>\n",
       "      <td>0.000000</td>\n",
       "      <td>-0.142623</td>\n",
       "      <td>-0.071312</td>\n",
       "    </tr>\n",
       "    <tr>\n",
       "      <th>3</th>\n",
       "      <td>391300</td>\n",
       "      <td>DoubleCubes</td>\n",
       "      <td>7.656120e+16</td>\n",
       "      <td>168</td>\n",
       "      <td>0.575503</td>\n",
       "      <td>True</td>\n",
       "      <td>DoubleCubes Double Cubes - The name says it al...</td>\n",
       "      <td>0.011584</td>\n",
       "      <td>-0.039696</td>\n",
       "      <td>-0.008264</td>\n",
       "    </tr>\n",
       "    <tr>\n",
       "      <th>4</th>\n",
       "      <td>391300</td>\n",
       "      <td>DoubleCubes</td>\n",
       "      <td>7.656120e+16</td>\n",
       "      <td>7</td>\n",
       "      <td>0.522382</td>\n",
       "      <td>False</td>\n",
       "      <td>DoubleCubes I don't know how long this took to...</td>\n",
       "      <td>0.000000</td>\n",
       "      <td>0.110933</td>\n",
       "      <td>0.055467</td>\n",
       "    </tr>\n",
       "    <tr>\n",
       "      <th>...</th>\n",
       "      <td>...</td>\n",
       "      <td>...</td>\n",
       "      <td>...</td>\n",
       "      <td>...</td>\n",
       "      <td>...</td>\n",
       "      <td>...</td>\n",
       "      <td>...</td>\n",
       "      <td>...</td>\n",
       "      <td>...</td>\n",
       "      <td>...</td>\n",
       "    </tr>\n",
       "    <tr>\n",
       "      <th>40162</th>\n",
       "      <td>254700</td>\n",
       "      <td>ResidentEvil4</td>\n",
       "      <td>7.656120e+16</td>\n",
       "      <td>1239</td>\n",
       "      <td>0.523810</td>\n",
       "      <td>True</td>\n",
       "      <td>ResidentEvil4 just play the game already it's ...</td>\n",
       "      <td>0.000000</td>\n",
       "      <td>0.440400</td>\n",
       "      <td>0.220200</td>\n",
       "    </tr>\n",
       "    <tr>\n",
       "      <th>40163</th>\n",
       "      <td>254700</td>\n",
       "      <td>ResidentEvil4</td>\n",
       "      <td>7.656120e+16</td>\n",
       "      <td>2211</td>\n",
       "      <td>0.523810</td>\n",
       "      <td>True</td>\n",
       "      <td>ResidentEvil4 Amazing game from start to finis...</td>\n",
       "      <td>0.056546</td>\n",
       "      <td>0.308660</td>\n",
       "      <td>0.210876</td>\n",
       "    </tr>\n",
       "    <tr>\n",
       "      <th>40164</th>\n",
       "      <td>254700</td>\n",
       "      <td>ResidentEvil4</td>\n",
       "      <td>7.656120e+16</td>\n",
       "      <td>1093</td>\n",
       "      <td>0.523810</td>\n",
       "      <td>True</td>\n",
       "      <td>ResidentEvil4 https://www.youtube.com/watch?v=...</td>\n",
       "      <td>0.000000</td>\n",
       "      <td>0.000000</td>\n",
       "      <td>0.000000</td>\n",
       "    </tr>\n",
       "    <tr>\n",
       "      <th>40165</th>\n",
       "      <td>254700</td>\n",
       "      <td>ResidentEvil4</td>\n",
       "      <td>7.656120e+16</td>\n",
       "      <td>1255</td>\n",
       "      <td>0.523810</td>\n",
       "      <td>True</td>\n",
       "      <td>ResidentEvil4 resident evil 4</td>\n",
       "      <td>0.000000</td>\n",
       "      <td>-0.659700</td>\n",
       "      <td>-0.329850</td>\n",
       "    </tr>\n",
       "    <tr>\n",
       "      <th>40166</th>\n",
       "      <td>254700</td>\n",
       "      <td>ResidentEvil4</td>\n",
       "      <td>7.656120e+16</td>\n",
       "      <td>2919</td>\n",
       "      <td>0.523810</td>\n",
       "      <td>True</td>\n",
       "      <td>ResidentEvil4 rescue the dog. another note. ha...</td>\n",
       "      <td>0.000000</td>\n",
       "      <td>-0.020433</td>\n",
       "      <td>-0.010217</td>\n",
       "    </tr>\n",
       "  </tbody>\n",
       "</table>\n",
       "<p>40167 rows × 10 columns</p>\n",
       "</div>"
      ],
      "text/plain": [
       "       game_id      game_name     author_id  playtime  weighted_vote_score  \\\n",
       "0       391300    DoubleCubes  7.656120e+16        57             0.718250   \n",
       "1       391300    DoubleCubes  7.656120e+16        14             0.638848   \n",
       "2       391300    DoubleCubes  7.656120e+16        50             0.636461   \n",
       "3       391300    DoubleCubes  7.656120e+16       168             0.575503   \n",
       "4       391300    DoubleCubes  7.656120e+16         7             0.522382   \n",
       "...        ...            ...           ...       ...                  ...   \n",
       "40162   254700  ResidentEvil4  7.656120e+16      1239             0.523810   \n",
       "40163   254700  ResidentEvil4  7.656120e+16      2211             0.523810   \n",
       "40164   254700  ResidentEvil4  7.656120e+16      1093             0.523810   \n",
       "40165   254700  ResidentEvil4  7.656120e+16      1255             0.523810   \n",
       "40166   254700  ResidentEvil4  7.656120e+16      2919             0.523810   \n",
       "\n",
       "       author_recommended_game  \\\n",
       "0                        False   \n",
       "1                        False   \n",
       "2                        False   \n",
       "3                         True   \n",
       "4                        False   \n",
       "...                        ...   \n",
       "40162                     True   \n",
       "40163                     True   \n",
       "40164                     True   \n",
       "40165                     True   \n",
       "40166                     True   \n",
       "\n",
       "                                             review_text  attr_cosine_sim  \\\n",
       "0      DoubleCubes First Impressions Video:\\n\\nhttps:...         0.035720   \n",
       "1      DoubleCubes SYSTEM REQUIREMENTS\\nOS: Windows 7...         0.047140   \n",
       "2      DoubleCubes The first 3 levels offer a mislead...         0.000000   \n",
       "3      DoubleCubes Double Cubes - The name says it al...         0.011584   \n",
       "4      DoubleCubes I don't know how long this took to...         0.000000   \n",
       "...                                                  ...              ...   \n",
       "40162  ResidentEvil4 just play the game already it's ...         0.000000   \n",
       "40163  ResidentEvil4 Amazing game from start to finis...         0.056546   \n",
       "40164  ResidentEvil4 https://www.youtube.com/watch?v=...         0.000000   \n",
       "40165                      ResidentEvil4 resident evil 4         0.000000   \n",
       "40166  ResidentEvil4 rescue the dog. another note. ha...         0.000000   \n",
       "\n",
       "       sentiment  eval_score_test  \n",
       "0      -0.004675         0.033382  \n",
       "1      -0.167267        -0.036493  \n",
       "2      -0.142623        -0.071312  \n",
       "3      -0.039696        -0.008264  \n",
       "4       0.110933         0.055467  \n",
       "...          ...              ...  \n",
       "40162   0.440400         0.220200  \n",
       "40163   0.308660         0.210876  \n",
       "40164   0.000000         0.000000  \n",
       "40165  -0.659700        -0.329850  \n",
       "40166  -0.020433        -0.010217  \n",
       "\n",
       "[40167 rows x 10 columns]"
      ]
     },
     "execution_count": 37,
     "metadata": {},
     "output_type": "execute_result"
    }
   ],
   "source": [
    "reviews"
   ]
  },
  {
   "cell_type": "code",
   "execution_count": 38,
   "metadata": {
    "collapsed": false
   },
   "outputs": [],
   "source": [
    "#lift analysis function\n",
    "def calc_lift(game, attrib):\n",
    "    #print('this is issue: ',issue)\n",
    "    a_b=0\n",
    "    n_a=0\n",
    "    n_b=0\n",
    "    for i in reviews.review_text:\n",
    "        #print(\"this is i\",str(i))\n",
    "        words=word_tokenize(str(i))\n",
    "        a=set(words).intersection(set({game, attrib}))\n",
    "        if(len(a)==2):\n",
    "            a_b+=1\n",
    "            n_a+=1\n",
    "            n_b+=1\n",
    "        elif(len(a)==1):\n",
    "            if(a.pop()==game):\n",
    "                n_a+=1\n",
    "            else:\n",
    "                n_b+=1\n",
    "\n",
    "    #print(\"here are the vals\",a_b ,\"\\n\",n_a,\"\\n\",n_b,\"\\n\")\n",
    "    if n_a==0 or n_b ==0:\n",
    "        return np.NAN\n",
    "    return a_b/(n_a*n_b)*len(reviews)"
   ]
  },
  {
   "cell_type": "code",
   "execution_count": 39,
   "metadata": {
    "collapsed": false
   },
   "outputs": [
    {
     "data": {
      "text/plain": [
       "array(['DoubleCubes', 'TrackManiaNationsForever',\n",
       "       \"Despot'sGameDystopianArmyBuilder\", ..., 'ZombiePanic!Source',\n",
       "       'DiceyDungeons', 'ResidentEvil4'], dtype=object)"
      ]
     },
     "execution_count": 39,
     "metadata": {},
     "output_type": "execute_result"
    }
   ],
   "source": [
    "reviews.game_name.unique()"
   ]
  },
  {
   "cell_type": "code",
   "execution_count": 42,
   "metadata": {
    "collapsed": false
   },
   "outputs": [],
   "source": [
    "#Chosen Games for lift analysis: \"HalfLifeAlyx\",\"HorizonZeroDawn\",\"RedDeadRedemption2\",\"Arma3\",\"Cyberpunk2077\",\"Bulletstorm\", \n",
    "#                                 \"AGameofDwarves\", \"Astellia\", \"AsterigosCurseoftheStars\", \"FootballManager2018\"\n",
    "\n",
    "#chosen attributes: story, gameplay, graphics, combat\n",
    "\n",
    "\n",
    "liftValues = pd.DataFrame(columns=[\"issue\",\"HalfLifeAlyx\",\"HorizonZeroDawn\",\"RedDeadRedemption2\",\"Arma3\",\"Cyberpunk2077\",\\\n",
    "    \"Bulletstorm\", \"AGameofDwarves\", \"Astellia\", \"AsterigosCurseoftheStars\", \"FootballManager2018\"])\n",
    "\n",
    "chosenIssues = [\"story\" , \"gameplay\", \"graphics\",\"combat\"]\n",
    "liftValues.issue = chosenIssues\n",
    "\n",
    "liftValues.Arma3=liftValues.apply(lambda x: calc_lift(\"Arma3\",str(x.issue)),axis=1)\n",
    "liftValues.HalfLifeAlyx=liftValues.apply(lambda x: calc_lift(\"HalfLifeAlyx\",str(x.issue)),axis=1)\n",
    "liftValues.HorizonZeroDawn=liftValues.apply(lambda x: calc_lift(\"HorizonZeroDawn\",str(x.issue)),axis=1)\n",
    "liftValues.RedDeadRedemption2=liftValues.apply(lambda x: calc_lift(\"RedDeadRedemption2\",str(x.issue)),axis=1)\n",
    "liftValues.Cyberpunk2077=liftValues.apply(lambda x: calc_lift(\"Cyberpunk2077\",str(x.issue)),axis=1)\n",
    "liftValues.Bulletstorm=liftValues.apply(lambda x: calc_lift(\"Bulletstorm\",str(x.issue)),axis=1)\n",
    "liftValues.AGameofDwarves=liftValues.apply(lambda x: calc_lift(\"AGameofDwarves\",str(x.issue)),axis=1)\n",
    "liftValues.Astellia=liftValues.apply(lambda x: calc_lift(\"Astellia\",str(x.issue)),axis=1)\n",
    "liftValues.AsterigosCurseoftheStars=liftValues.apply(lambda x: calc_lift(\"AsterigosCurseoftheStars\",str(x.issue)),axis=1)\n",
    "liftValues.FootballManager2018=liftValues.apply(lambda x: calc_lift(\"FootballManager2018\",str(x.issue)),axis=1)"
   ]
  },
  {
   "cell_type": "code",
   "execution_count": 43,
   "metadata": {
    "collapsed": false
   },
   "outputs": [
    {
     "data": {
      "text/html": [
       "<div>\n",
       "<style scoped>\n",
       "    .dataframe tbody tr th:only-of-type {\n",
       "        vertical-align: middle;\n",
       "    }\n",
       "\n",
       "    .dataframe tbody tr th {\n",
       "        vertical-align: top;\n",
       "    }\n",
       "\n",
       "    .dataframe thead th {\n",
       "        text-align: right;\n",
       "    }\n",
       "</style>\n",
       "<table border=\"1\" class=\"dataframe\">\n",
       "  <thead>\n",
       "    <tr style=\"text-align: right;\">\n",
       "      <th></th>\n",
       "      <th>issue</th>\n",
       "      <th>HalfLifeAlyx</th>\n",
       "      <th>HorizonZeroDawn</th>\n",
       "      <th>RedDeadRedemption2</th>\n",
       "      <th>Arma3</th>\n",
       "      <th>Cyberpunk2077</th>\n",
       "      <th>Bulletstorm</th>\n",
       "      <th>AGameofDwarves</th>\n",
       "      <th>Astellia</th>\n",
       "      <th>AsterigosCurseoftheStars</th>\n",
       "      <th>FootballManager2018</th>\n",
       "    </tr>\n",
       "  </thead>\n",
       "  <tbody>\n",
       "    <tr>\n",
       "      <th>0</th>\n",
       "      <td>story</td>\n",
       "      <td>2.573488</td>\n",
       "      <td>5.718862</td>\n",
       "      <td>3.250722</td>\n",
       "      <td>0.980376</td>\n",
       "      <td>4.632278</td>\n",
       "      <td>3.275348</td>\n",
       "      <td>1.544093</td>\n",
       "      <td>3.088186</td>\n",
       "      <td>4.117581</td>\n",
       "      <td>0.000000</td>\n",
       "    </tr>\n",
       "    <tr>\n",
       "      <th>1</th>\n",
       "      <td>gameplay</td>\n",
       "      <td>1.672696</td>\n",
       "      <td>1.858551</td>\n",
       "      <td>1.760732</td>\n",
       "      <td>3.186087</td>\n",
       "      <td>2.787826</td>\n",
       "      <td>1.520632</td>\n",
       "      <td>0.000000</td>\n",
       "      <td>0.000000</td>\n",
       "      <td>1.672696</td>\n",
       "      <td>1.115130</td>\n",
       "    </tr>\n",
       "    <tr>\n",
       "      <th>2</th>\n",
       "      <td>graphics</td>\n",
       "      <td>1.577651</td>\n",
       "      <td>0.876473</td>\n",
       "      <td>0.830343</td>\n",
       "      <td>2.253787</td>\n",
       "      <td>1.577651</td>\n",
       "      <td>0.717114</td>\n",
       "      <td>3.155302</td>\n",
       "      <td>3.944128</td>\n",
       "      <td>0.788826</td>\n",
       "      <td>3.155302</td>\n",
       "    </tr>\n",
       "    <tr>\n",
       "      <th>3</th>\n",
       "      <td>combat</td>\n",
       "      <td>2.293946</td>\n",
       "      <td>6.372073</td>\n",
       "      <td>1.207340</td>\n",
       "      <td>7.646488</td>\n",
       "      <td>3.440919</td>\n",
       "      <td>4.170811</td>\n",
       "      <td>2.293946</td>\n",
       "      <td>6.881839</td>\n",
       "      <td>10.322758</td>\n",
       "      <td>0.000000</td>\n",
       "    </tr>\n",
       "  </tbody>\n",
       "</table>\n",
       "</div>"
      ],
      "text/plain": [
       "      issue  HalfLifeAlyx  HorizonZeroDawn  RedDeadRedemption2     Arma3  \\\n",
       "0     story      2.573488         5.718862            3.250722  0.980376   \n",
       "1  gameplay      1.672696         1.858551            1.760732  3.186087   \n",
       "2  graphics      1.577651         0.876473            0.830343  2.253787   \n",
       "3    combat      2.293946         6.372073            1.207340  7.646488   \n",
       "\n",
       "   Cyberpunk2077  Bulletstorm  AGameofDwarves  Astellia  \\\n",
       "0       4.632278     3.275348        1.544093  3.088186   \n",
       "1       2.787826     1.520632        0.000000  0.000000   \n",
       "2       1.577651     0.717114        3.155302  3.944128   \n",
       "3       3.440919     4.170811        2.293946  6.881839   \n",
       "\n",
       "   AsterigosCurseoftheStars  FootballManager2018  \n",
       "0                  4.117581             0.000000  \n",
       "1                  1.672696             1.115130  \n",
       "2                  0.788826             3.155302  \n",
       "3                 10.322758             0.000000  "
      ]
     },
     "execution_count": 43,
     "metadata": {},
     "output_type": "execute_result"
    }
   ],
   "source": [
    "liftValues"
   ]
  },
  {
   "cell_type": "code",
   "execution_count": 106,
   "metadata": {},
   "outputs": [
    {
     "name": "stdout",
     "output_type": "stream",
     "text": [
      "{'HalfLifeAlyx': 0, 'HorizonZeroDawn': 1, 'RedDeadRedemption2': 0, 'Arma3': 0, 'Cyberpunk2077': 0, 'Bulletstorm': 0, 'AGameofDwarves': 2, 'Astellia': 2, 'AsterigosCurseoftheStars': 1, 'FootballManager2018': 2}\n"
     ]
    }
   ],
   "source": [
    "from sklearn.cluster import KMeans\n",
    "from sklearn.decomposition import PCA\n",
    "from sklearn.preprocessing import StandardScaler\n",
    "from matplotlib import pyplot as plt\n",
    "\n",
    "# OUTLINE FOR LIFT SIMILARITY ANALYSIS\n",
    "# transpose table so that games are rows and issues are columns\n",
    "# standardize issue values for each game\n",
    "# perform PCA to reduce to two components\n",
    "# use K Means Clustering to group games based on issues\n",
    "# plot clusters\n",
    "# choose a game and then find the most similar game based on cluster scores\n",
    "\n",
    "\n",
    "# transposing the table\n",
    "lift_table=liftValues.T.reset_index()[1:]\n",
    "lift_table.columns=['game_name','story','gameplay','graphics','combat']\n",
    "lift_table = lift_table.set_index(\"game_name\")\n",
    "lift_table\n",
    "\n",
    "# standardizing the lift values\n",
    "sc = StandardScaler()\n",
    "lift_table_sc = sc.fit_transform(lift_table)\n",
    "lift_table_sc\n",
    "\n",
    "# performing PCA with 2 components\n",
    "pca = PCA(n_components=2)\n",
    "lift_table_pca = pca.fit_transform(lift_table_sc)\n",
    "lift_table_pca\n",
    "\n",
    "# performing K Means Clustering with 3 clusters\n",
    "km = KMeans(n_clusters=3, init=\"random\")\n",
    "km_pred = km.fit_predict(lift_table_pca)\n",
    "km_pred\n",
    "\n",
    "km_game_names = [\"HalfLifeAlyx\",\"HorizonZeroDawn\",\"RedDeadRedemption2\",\"Arma3\",\"Cyberpunk2077\",\"Bulletstorm\", \n",
    "\"AGameofDwarves\", \"Astellia\", \"AsterigosCurseoftheStars\", \"FootballManager2018\"]\n",
    "\n",
    "# creating a dictionary of games and their associated class\n",
    "game_class_dict = {}\n",
    "x=0\n",
    "for pred in km_pred:\n",
    "    game_class_dict[km_game_names[x]] = pred\n",
    "    x+=1\n",
    "\n",
    "print(game_class_dict)\n"
   ]
  },
  {
   "cell_type": "code",
   "execution_count": 110,
   "metadata": {},
   "outputs": [
    {
     "data": {
      "image/png": "[encoded data removed]",
      "text/plain": [
       "<Figure size 432x288 with 1 Axes>"
      ]
     },
     "metadata": {
      "needs_background": "light"
     },
     "output_type": "display_data"
    }
   ],
   "source": [
    "# plotting the 3 clusters\n",
    "plt.scatter(lift_table_pca[km_pred == 0, 0],\n",
    "            lift_table_pca[km_pred == 0, 1],\n",
    "            s=50,\n",
    "            c='green',\n",
    "            #marker='s',\n",
    "            label='cluster 0')\n",
    "\n",
    "plt.scatter(lift_table_pca[km_pred == 1, 0],\n",
    "            lift_table_pca[km_pred == 1, 1],\n",
    "            s=50,\n",
    "            c='red',\n",
    "            #marker='o',\n",
    "            label='cluster 1')\n",
    "\n",
    "plt.scatter(lift_table_pca[km_pred == 2, 0],\n",
    "            lift_table_pca[km_pred == 2, 1],\n",
    "            s=50,\n",
    "            c='blue',\n",
    "            #marker='v',\n",
    "            label='cluster 2')\n",
    "\n",
    "plt.legend()\n",
    "plt.show()"
   ]
  },
  {
   "cell_type": "markdown",
   "metadata": {},
   "source": [
    "The method we used for conducting our lift similarity analysis began with calculating lift values for 10 games against the top four attributes found in our word frequency analysis. We then standardized the lift values and performed Principal Component Analysis to reduce our dimenionality from four to two in order to allow for the plot you see above. We then used K Means Clustering to find the most similar games based on PCA values. Overall, K Means Clustering was the method we used to determine similarity based on lift values - the other steps were more or less preprocessing for K Means. \n",
    "\n",
    "If we were to choose HorizonZeroDawn as our game of choice, the most similar game would be AsterigosCurseoftheStars based on our K Means clustering analysis. These games are the only two that are part of cluster 1 which indicates their similarity when compared to the rest of the games.\n",
    "\n",
    "When looking at the lift table, we can see that these games have similar lift values in each category. Qualitatively, upon research, both of these games are Action-RPGs, so it makes sense that they are clustered together."
   ]
  }
 ],
 "metadata": {
  "kernelspec": {
   "display_name": "Python 3.9.12",
   "language": "python",
   "name": "python3"
  },
  "language_info": {
   "codemirror_mode": {
    "name": "ipython",
    "version": 3
   },
   "file_extension": ".py",
   "mimetype": "text/x-python",
   "name": "python",
   "nbconvert_exporter": "python",
   "pygments_lexer": "ipython3",
   "version": "3.9.12"
  },
  "orig_nbformat": 4,
  "vscode": {
   "interpreter": {
    "hash": "58f68c893d27d44de5f329b5c78da41b4997af8d492e4e8bd7c62547c498f83b"
   }
  }
 },
 "nbformat": 4,
 "nbformat_minor": 2
}
